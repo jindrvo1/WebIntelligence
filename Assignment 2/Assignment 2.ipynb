{
 "cells": [
  {
   "cell_type": "code",
   "execution_count": 1,
   "metadata": {},
   "outputs": [],
   "source": [
    "import networkx as nx\n",
    "from networkx.algorithms import community\n",
    "import matplotlib.pyplot as plt\n",
    "import pandas as pd\n",
    "from happyfuntokenizing import Tokenizer\n",
    "import re\n",
    "from nltk.corpus import stopwords\n",
    "from sklearn.feature_extraction.text import CountVectorizer\n",
    "from sklearn.linear_model import LogisticRegression\n",
    "from sklearn.model_selection import cross_val_score, train_test_split\n",
    "import numpy as np"
   ]
  },
  {
   "cell_type": "markdown",
   "metadata": {},
   "source": [
    "# 1. Community Detection"
   ]
  },
  {
   "cell_type": "code",
   "execution_count": 2,
   "metadata": {},
   "outputs": [],
   "source": [
    "g = nx.Graph()\n",
    "users = {}"
   ]
  },
  {
   "cell_type": "code",
   "execution_count": 3,
   "metadata": {},
   "outputs": [],
   "source": [
    "# Process the file\n",
    "\n",
    "file = 'friendships.txt'\n",
    "\n",
    "with open(file, 'r') as f:\n",
    "    lines = f.read().split('\\n')\n",
    "    \n",
    "    for line in lines:\n",
    "        if line.startswith('user: '):\n",
    "            last_name_seen = line.split(' ')[1]\n",
    "            users[last_name_seen] = []            \n",
    "        elif line.startswith('friends:\\t'):\n",
    "            friends = line.split('\\t')[1:]\n",
    "            users[last_name_seen] += friends"
   ]
  },
  {
   "cell_type": "code",
   "execution_count": 4,
   "metadata": {},
   "outputs": [],
   "source": [
    "# Create graph\n",
    "\n",
    "g.add_nodes_from(list(users.keys()))\n",
    "\n",
    "for user, friends in users.items():\n",
    "    g.add_edges_from([[user, friend] for friend in friends])"
   ]
  },
  {
   "cell_type": "code",
   "execution_count": 5,
   "metadata": {},
   "outputs": [
    {
     "data": {
      "image/png": "[encoded data removed]",
      "text/plain": [
       "<Figure size 432x288 with 1 Axes>"
      ]
     },
     "metadata": {},
     "output_type": "display_data"
    }
   ],
   "source": [
    "nx.draw(g)"
   ]
  },
  {
   "cell_type": "code",
   "execution_count": 6,
   "metadata": {},
   "outputs": [],
   "source": [
    "# Calculate the communities\n",
    "com_gen = community.girvan_newman(g)"
   ]
  },
  {
   "cell_type": "code",
   "execution_count": 7,
   "metadata": {},
   "outputs": [],
   "source": [
    "# Calculate different levels of communities to compare\n",
    "top_level = next(com_gen)\n",
    "second_level = next(com_gen)\n",
    "third_level = next(com_gen)"
   ]
  },
  {
   "cell_type": "code",
   "execution_count": 8,
   "metadata": {},
   "outputs": [
    {
     "name": "stdout",
     "output_type": "stream",
     "text": [
      "First level: 2 communities of lengths:  1751, 2470\n",
      "Second level: 3 communities of lengths:  1751, 683, 1787\n",
      "Third level: 4 communities of lengths:  1751, 683, 1168, 619\n"
     ]
    }
   ],
   "source": [
    "print('First level: {} communities of lengths: {}'.format(\n",
    "    len(top_level), ''), \n",
    "    ', '.join([str(len(l)) for l in top_level])\n",
    ")\n",
    "\n",
    "print('Second level: {} communities of lengths: {}'.format(\n",
    "    len(second_level), ''), \n",
    "    ', '.join([str(len(l)) for l in second_level])\n",
    ")\n",
    "\n",
    "print('Third level: {} communities of lengths: {}'.format(\n",
    "    len(third_level), ''), \n",
    "    ', '.join([str(len(l)) for l in third_level])\n",
    ")"
   ]
  },
  {
   "cell_type": "markdown",
   "metadata": {},
   "source": [
    "# 2. Sentiment Analysis"
   ]
  },
  {
   "cell_type": "markdown",
   "metadata": {},
   "source": [
    "## 2.1 Text data preprocessing"
   ]
  },
  {
   "cell_type": "code",
   "execution_count": 9,
   "metadata": {},
   "outputs": [],
   "source": [
    "# Process the file\n",
    "\n",
    "file = 'SentimentTrainingData.txt'\n",
    "rows = []\n",
    "\n",
    "with open(file, 'r') as f:\n",
    "    blocks = f.read().split('\\n\\n')\n",
    "    \n",
    "    for block in blocks:\n",
    "        new_line = {}\n",
    "        for line in block.split('\\n'):\n",
    "\n",
    "            if line.startswith('review/userId: '):\n",
    "                new_line['user'] = line.split(' ')[1]\n",
    "            elif line.startswith('review/helpfulness: '):\n",
    "                new_line['helpfulness'] = line.split(' ')[1]\n",
    "            elif line.startswith('review/score: '):\n",
    "                new_line['score'] = line.split(' ')[1]\n",
    "            elif line.startswith('review/summary: '):\n",
    "                new_line['summary'] = ' '.join(line.split(' ')[1:])\n",
    "            elif line.startswith('review/text: '):\n",
    "                new_line['text'] = ' '.join(line.split(' ')[1:])\n",
    "\n",
    "        rows.append(new_line)"
   ]
  },
  {
   "cell_type": "code",
   "execution_count": 10,
   "metadata": {},
   "outputs": [],
   "source": [
    "# Load data into dataset\n",
    "df = pd.DataFrame(rows)"
   ]
  },
  {
   "cell_type": "code",
   "execution_count": 11,
   "metadata": {},
   "outputs": [],
   "source": [
    "# Pott's sentiment aware tokenizer\n",
    "tok = Tokenizer()"
   ]
  },
  {
   "cell_type": "code",
   "execution_count": 12,
   "metadata": {},
   "outputs": [],
   "source": [
    "# Remove html tags, convert to lowercase, remove unnecessary characters\n",
    "# https://towardsdatascience.com/sentiment-analysis-with-python-part-1-5ce197074184\n",
    "\n",
    "REPLACE_NO_SPACE = re.compile(\"(\\.)|(\\;)|(\\:)|(\\!)|(\\')|(\\?)|(\\,)|(\\\")|(\\()|(\\))|(\\[)|(\\])\")\n",
    "REPLACE_WITH_SPACE = re.compile(\"(<br\\s*/><br\\s*/>)|(\\-)|(\\/)\")\n",
    "\n",
    "df['text'] = [REPLACE_NO_SPACE.sub(\"\", line.lower()) for line in df['text']]\n",
    "df['text'] = [REPLACE_WITH_SPACE.sub(\" \", line) for line in df['text']]"
   ]
  },
  {
   "cell_type": "code",
   "execution_count": 13,
   "metadata": {},
   "outputs": [],
   "source": [
    "# Tokenize reviews\n",
    "\n",
    "df['text'] = [' '.join(tok.tokenize(x)) for x in df['text']]"
   ]
  },
  {
   "cell_type": "code",
   "execution_count": 14,
   "metadata": {
    "scrolled": true
   },
   "outputs": [
    {
     "data": {
      "text/html": [
       "<div>\n",
       "<style scoped>\n",
       "    .dataframe tbody tr th:only-of-type {\n",
       "        vertical-align: middle;\n",
       "    }\n",
       "\n",
       "    .dataframe tbody tr th {\n",
       "        vertical-align: top;\n",
       "    }\n",
       "\n",
       "    .dataframe thead th {\n",
       "        text-align: right;\n",
       "    }\n",
       "</style>\n",
       "<table border=\"1\" class=\"dataframe\">\n",
       "  <thead>\n",
       "    <tr style=\"text-align: right;\">\n",
       "      <th></th>\n",
       "      <th>helpfulness</th>\n",
       "      <th>score</th>\n",
       "      <th>summary</th>\n",
       "      <th>text</th>\n",
       "      <th>user</th>\n",
       "    </tr>\n",
       "  </thead>\n",
       "  <tbody>\n",
       "    <tr>\n",
       "      <th>0</th>\n",
       "      <td>3/6</td>\n",
       "      <td>5.0</td>\n",
       "      <td>If you're worried about consitpation....</td>\n",
       "      <td>i purchased this formula but was worried after...</td>\n",
       "      <td>A3K3GNZWUYXRUT</td>\n",
       "    </tr>\n",
       "    <tr>\n",
       "      <th>1</th>\n",
       "      <td>1/3</td>\n",
       "      <td>1.0</td>\n",
       "      <td>THIS IS NOT ORGANIC!!! TOXIC hexane still in it!</td>\n",
       "      <td>reconsider this formula martek advertises this...</td>\n",
       "      <td>AFAWC4ZJ29YV1</td>\n",
       "    </tr>\n",
       "    <tr>\n",
       "      <th>2</th>\n",
       "      <td>4/10</td>\n",
       "      <td>1.0</td>\n",
       "      <td>shipping time is unreasonably long</td>\n",
       "      <td>i ordered this on 8 29 10 and it didnt ship ou...</td>\n",
       "      <td>AVUV2TE9UKTPU</td>\n",
       "    </tr>\n",
       "    <tr>\n",
       "      <th>3</th>\n",
       "      <td>1/5</td>\n",
       "      <td>1.0</td>\n",
       "      <td>Horribly Constipating</td>\n",
       "      <td>my child was exclusively breastfed for 4 1 2 m...</td>\n",
       "      <td>A2MWGBNJRJN57M</td>\n",
       "    </tr>\n",
       "    <tr>\n",
       "      <th>4</th>\n",
       "      <td>9/20</td>\n",
       "      <td>1.0</td>\n",
       "      <td>Constipation!!!!!</td>\n",
       "      <td>we breastfeed our month old boy but since his ...</td>\n",
       "      <td>A3A6QXIC8XCOJG</td>\n",
       "    </tr>\n",
       "  </tbody>\n",
       "</table>\n",
       "</div>"
      ],
      "text/plain": [
       "  helpfulness score                                           summary  \\\n",
       "0         3/6   5.0          If you're worried about consitpation....   \n",
       "1         1/3   1.0  THIS IS NOT ORGANIC!!! TOXIC hexane still in it!   \n",
       "2        4/10   1.0                shipping time is unreasonably long   \n",
       "3         1/5   1.0                             Horribly Constipating   \n",
       "4        9/20   1.0                                 Constipation!!!!!   \n",
       "\n",
       "                                                text            user  \n",
       "0  i purchased this formula but was worried after...  A3K3GNZWUYXRUT  \n",
       "1  reconsider this formula martek advertises this...   AFAWC4ZJ29YV1  \n",
       "2  i ordered this on 8 29 10 and it didnt ship ou...   AVUV2TE9UKTPU  \n",
       "3  my child was exclusively breastfed for 4 1 2 m...  A2MWGBNJRJN57M  \n",
       "4  we breastfeed our month old boy but since his ...  A3A6QXIC8XCOJG  "
      ]
     },
     "execution_count": 14,
     "metadata": {},
     "output_type": "execute_result"
    }
   ],
   "source": [
    "df.head()"
   ]
  },
  {
   "cell_type": "code",
   "execution_count": 15,
   "metadata": {
    "scrolled": false
   },
   "outputs": [],
   "source": [
    "# Remove stopwords from texts\n",
    "\n",
    "stopwords_list = stopwords.words('english')\n",
    "\n",
    "df['text'] = [' '.join([word for word in text.split(' ') if word not in stopwords_list]) for text in df['text']]"
   ]
  },
  {
   "cell_type": "code",
   "execution_count": 16,
   "metadata": {
    "scrolled": true
   },
   "outputs": [
    {
     "data": {
      "text/plain": [
       "CountVectorizer(analyzer='word', binary=True, decode_error='strict',\n",
       "        dtype=<class 'numpy.int64'>, encoding='utf-8', input='content',\n",
       "        lowercase=True, max_df=1.0, max_features=None, min_df=1,\n",
       "        ngram_range=(1, 1), preprocessor=None, stop_words=None,\n",
       "        strip_accents=None, token_pattern='(?u)\\\\b\\\\w\\\\w+\\\\b',\n",
       "        tokenizer=None, vocabulary=None)"
      ]
     },
     "execution_count": 16,
     "metadata": {},
     "output_type": "execute_result"
    }
   ],
   "source": [
    "# Create the bag of words\n",
    "\n",
    "vectorizer = CountVectorizer(binary=True)\n",
    "vectorizer.fit(list(df['text'].values))"
   ]
  },
  {
   "cell_type": "code",
   "execution_count": 17,
   "metadata": {},
   "outputs": [],
   "source": [
    "# Vectorize the texts\n",
    "\n",
    "X = vectorizer.transform(list(df['text'].values))"
   ]
  },
  {
   "cell_type": "markdown",
   "metadata": {},
   "source": [
    "## 2.2 Train and evaluate the sentiment classifier"
   ]
  },
  {
   "cell_type": "code",
   "execution_count": 18,
   "metadata": {},
   "outputs": [],
   "source": [
    "# Target scores\n",
    "\n",
    "y = list(df['score'])"
   ]
  },
  {
   "cell_type": "code",
   "execution_count": 19,
   "metadata": {},
   "outputs": [],
   "source": [
    "# Create the model instance\n",
    "\n",
    "lr = LogisticRegression()"
   ]
  },
  {
   "cell_type": "code",
   "execution_count": 20,
   "metadata": {},
   "outputs": [
    {
     "data": {
      "text/plain": [
       "LogisticRegression(C=1.0, class_weight=None, dual=False, fit_intercept=True,\n",
       "          intercept_scaling=1, max_iter=100, multi_class='ovr', n_jobs=1,\n",
       "          penalty='l2', random_state=None, solver='liblinear', tol=0.0001,\n",
       "          verbose=0, warm_start=False)"
      ]
     },
     "execution_count": 20,
     "metadata": {},
     "output_type": "execute_result"
    }
   ],
   "source": [
    "lr.fit(X, y)"
   ]
  },
  {
   "cell_type": "code",
   "execution_count": 21,
   "metadata": {
    "scrolled": true
   },
   "outputs": [
    {
     "name": "stdout",
     "output_type": "stream",
     "text": [
      "[0.76169466 0.76304122 0.77037239 0.7619242 ]\n"
     ]
    }
   ],
   "source": [
    "# Calculate the accuracy using 4-fold cross validation\n",
    "\n",
    "print(cross_val_score(lr, X, y, cv=4, n_jobs=4))"
   ]
  },
  {
   "cell_type": "markdown",
   "metadata": {},
   "source": [
    "## 2.3 Evaluate model on file with testing data"
   ]
  },
  {
   "cell_type": "code",
   "execution_count": 22,
   "metadata": {},
   "outputs": [],
   "source": [
    "# Process the file\n",
    "\n",
    "file = 'SentimentTestingData.txt'\n",
    "rows = []\n",
    "\n",
    "with open(file, 'r') as f:\n",
    "    blocks = f.read().split('\\n\\n')\n",
    "    \n",
    "    for block in blocks:\n",
    "        new_line = {}\n",
    "        for line in block.split('\\n'):\n",
    "\n",
    "            if line.startswith('review/userId: '):\n",
    "                new_line['user'] = line.split(' ')[1]\n",
    "            elif line.startswith('review/helpfulness: '):\n",
    "                new_line['helpfulness'] = line.split(' ')[1]\n",
    "            elif line.startswith('review/score: '):\n",
    "                new_line['score'] = line.split(' ')[1]\n",
    "            elif line.startswith('review/summary: '):\n",
    "                new_line['summary'] = ' '.join(line.split(' ')[1:])\n",
    "            elif line.startswith('review/text: '):\n",
    "                new_line['text'] = ' '.join(line.split(' ')[1:])\n",
    "\n",
    "        rows.append(new_line)"
   ]
  },
  {
   "cell_type": "code",
   "execution_count": 23,
   "metadata": {},
   "outputs": [],
   "source": [
    "# Load data into dataset\n",
    "df = pd.DataFrame(rows)"
   ]
  },
  {
   "cell_type": "code",
   "execution_count": 24,
   "metadata": {},
   "outputs": [],
   "source": [
    "# Remove html tags, convert to lowercase, remove unnecessary characters\n",
    "# https://towardsdatascience.com/sentiment-analysis-with-python-part-1-5ce197074184\n",
    "\n",
    "REPLACE_NO_SPACE = re.compile(\"(\\.)|(\\;)|(\\:)|(\\!)|(\\')|(\\?)|(\\,)|(\\\")|(\\()|(\\))|(\\[)|(\\])\")\n",
    "REPLACE_WITH_SPACE = re.compile(\"(<br\\s*/><br\\s*/>)|(\\-)|(\\/)\")\n",
    "\n",
    "df['text'] = [REPLACE_NO_SPACE.sub(\"\", line.lower()) for line in df['text']]\n",
    "df['text'] = [REPLACE_WITH_SPACE.sub(\" \", line) for line in df['text']]"
   ]
  },
  {
   "cell_type": "code",
   "execution_count": 25,
   "metadata": {},
   "outputs": [],
   "source": [
    "# Tokenize reviews\n",
    "\n",
    "df['text'] = [' '.join(tok.tokenize(x)) for x in df['text']]"
   ]
  },
  {
   "cell_type": "code",
   "execution_count": 26,
   "metadata": {},
   "outputs": [],
   "source": [
    "# Remove stopwords from texts\n",
    "\n",
    "stopwords_list = stopwords.words('english')\n",
    "\n",
    "df['text'] = [' '.join([word for word in text.split(' ') if word not in stopwords_list]) for text in df['text']]"
   ]
  },
  {
   "cell_type": "code",
   "execution_count": 27,
   "metadata": {},
   "outputs": [],
   "source": [
    "# Vectorize the texts\n",
    "\n",
    "X = vectorizer.transform(list(df['text'].values))\n",
    "y = list(df['score'])"
   ]
  },
  {
   "cell_type": "code",
   "execution_count": 28,
   "metadata": {},
   "outputs": [
    {
     "data": {
      "text/plain": [
       "array([0.66227018, 0.6437425 , 0.66146459, 0.65092074])"
      ]
     },
     "execution_count": 28,
     "metadata": {},
     "output_type": "execute_result"
    }
   ],
   "source": [
    "# Calculate the accuracy using 4-fold cross validation\n",
    "\n",
    "cross_val_score(lr, X, y, cv=4, n_jobs=4)"
   ]
  },
  {
   "cell_type": "markdown",
   "metadata": {},
   "source": [
    "# 3. Purchase prediction"
   ]
  },
  {
   "cell_type": "markdown",
   "metadata": {},
   "source": [
    "## 3.1 Computing scores"
   ]
  },
  {
   "cell_type": "code",
   "execution_count": 29,
   "metadata": {},
   "outputs": [],
   "source": [
    "# Process the file\n",
    "\n",
    "file = 'friendships.reviews.txt'\n",
    "\n",
    "data = []\n",
    "\n",
    "with open(file, 'r') as f:\n",
    "    blocks = f.read().split('\\n\\n')\n",
    "    \n",
    "    for block in blocks:\n",
    "        new_line = {}\n",
    "    \n",
    "        for line in block.split('\\n'):\n",
    "            if line.startswith('user: '):\n",
    "                new_line['user'] = ' '.join(line.split(' ')[1:])\n",
    "            elif line.startswith('friends:\\t'):\n",
    "                new_line['friends'] = ','.join(line.split('\\t')[1:])\n",
    "            elif line.startswith('summary: '):\n",
    "                line = ' '.join(line.split(' ')[1:])\n",
    "                new_line['summary'] = line if line is not '*' else None\n",
    "            elif line.startswith('review: '):\n",
    "                line = ' '.join(line.split(' ')[1:])\n",
    "                new_line['review'] = line if line is not '*' else None\n",
    "        \n",
    "        data.append(new_line)"
   ]
  },
  {
   "cell_type": "code",
   "execution_count": 30,
   "metadata": {},
   "outputs": [],
   "source": [
    "df = pd.DataFrame(data)"
   ]
  },
  {
   "cell_type": "code",
   "execution_count": 31,
   "metadata": {},
   "outputs": [],
   "source": [
    "# Filter out non-reviewed rows\n",
    "\n",
    "reviews = pd.DataFrame(df[df['review'].notnull()])\n",
    "nonreviewed = pd.DataFrame(df[~df['review'].notnull()])"
   ]
  },
  {
   "cell_type": "code",
   "execution_count": 32,
   "metadata": {},
   "outputs": [],
   "source": [
    "# Vectorize reviews\n",
    "\n",
    "reviews['review'] = [REPLACE_NO_SPACE.sub(\"\", line.lower()) for line in reviews['review']]\n",
    "reviews['review'] = [REPLACE_WITH_SPACE.sub(\" \", line) for line in reviews['review']]\n",
    "\n",
    "reviews['review'] = [' '.join(tok.tokenize(x)) for x in reviews['review']]\n",
    "reviews['review'] = [' '.join([word for word in text.split(' ') if word not in stopwords_list]) for text in reviews['review']]\n",
    "\n",
    "X = vectorizer.transform(list(reviews['review'].values))"
   ]
  },
  {
   "cell_type": "code",
   "execution_count": 33,
   "metadata": {},
   "outputs": [
    {
     "data": {
      "text/plain": [
       "<1644x167571 sparse matrix of type '<class 'numpy.int64'>'\n",
       "\twith 53676 stored elements in Compressed Sparse Row format>"
      ]
     },
     "execution_count": 33,
     "metadata": {},
     "output_type": "execute_result"
    }
   ],
   "source": [
    "X"
   ]
  },
  {
   "cell_type": "code",
   "execution_count": 34,
   "metadata": {},
   "outputs": [],
   "source": [
    "# Predict score\n",
    "\n",
    "y = lr.predict(X)\n",
    "reviews['score'] = y"
   ]
  },
  {
   "cell_type": "code",
   "execution_count": 35,
   "metadata": {},
   "outputs": [],
   "source": [
    "nonreviewed['score'] = None"
   ]
  },
  {
   "cell_type": "code",
   "execution_count": 36,
   "metadata": {},
   "outputs": [],
   "source": [
    "for user in np.array(nonreviewed['user']):\n",
    "    # Get all friends\n",
    "    friends = nonreviewed[nonreviewed['user'] == user]['friends'].values[0].split(',')\n",
    "    \n",
    "    # Filter out friends without reviews\n",
    "    friends = [fr for fr in friends if fr in np.array(reviews['user'])]\n",
    "    \n",
    "    # Calculate score based on user's friends' scores\n",
    "    scores = []\n",
    "    for fr in friends:\n",
    "        score = reviews[reviews['user'] == fr]['score'].values[0]\n",
    "        if fr == 'kyle':\n",
    "            for i in range(0, 10):\n",
    "                scores.append(float(score))\n",
    "        else:\n",
    "            scores.append(float(score))\n",
    "    \n",
    "    # If no friends have reviews, assign neutral score 3\n",
    "    score = 3\n",
    "    if len(scores) > 0:\n",
    "        score = sum(scores)/len(scores)\n",
    "    \n",
    "    id = nonreviewed[nonreviewed['user'] == user].index[0]\n",
    "    nonreviewed.loc[id, 'score'] = score"
   ]
  },
  {
   "cell_type": "code",
   "execution_count": 37,
   "metadata": {},
   "outputs": [],
   "source": [
    "# Purchase is positive in case of positive review\n",
    "\n",
    "nonreviewed['purchase_pr'] = ['yes' if score > 3.0 else 'no' for score in nonreviewed['score']]"
   ]
  },
  {
   "cell_type": "markdown",
   "metadata": {},
   "source": [
    "## 3.2 Comparing calculated scores to real data"
   ]
  },
  {
   "cell_type": "code",
   "execution_count": 38,
   "metadata": {},
   "outputs": [],
   "source": [
    "# Process the file\n",
    "\n",
    "file = 'friendships.reviews.results.txt'\n",
    "\n",
    "data = []\n",
    "\n",
    "with open(file, 'r') as f:\n",
    "    blocks = f.read().split('\\n\\n')\n",
    "    \n",
    "    for block in blocks:\n",
    "        new_line = {}\n",
    "    \n",
    "        for line in block.split('\\n'):\n",
    "            if line.startswith('user: '):\n",
    "                new_line['user'] = ' '.join(line.split(' ')[1:])\n",
    "            elif line.startswith('purchase: '):\n",
    "                new_line['purchase'] = line.split(' ')[1]\n",
    "            elif line.startswith('score: '):\n",
    "                new_line['score'] = line.split(' ')[1]\n",
    "        \n",
    "        data.append(new_line)"
   ]
  },
  {
   "cell_type": "code",
   "execution_count": 39,
   "metadata": {},
   "outputs": [],
   "source": [
    "df = pd.DataFrame(data)"
   ]
  },
  {
   "cell_type": "code",
   "execution_count": 40,
   "metadata": {},
   "outputs": [],
   "source": [
    "# Join datasets on user\n",
    "\n",
    "merged = pd.merge(df, nonreviewed, on='user')[['user', 'purchase', 'purchase_pr']]"
   ]
  },
  {
   "cell_type": "code",
   "execution_count": 41,
   "metadata": {},
   "outputs": [],
   "source": [
    "# Calculate accuracy\n",
    "\n",
    "real = np.array(merged['purchase'])\n",
    "pred = np.array(merged['purchase_pr'])\n",
    "\n",
    "acc = sum([1 if real[i] == pred[i] else 0 for i in range(len(real))])/len(real)"
   ]
  },
  {
   "cell_type": "code",
   "execution_count": 42,
   "metadata": {},
   "outputs": [
    {
     "data": {
      "text/plain": [
       "0.9856310679611651"
      ]
     },
     "execution_count": 42,
     "metadata": {},
     "output_type": "execute_result"
    }
   ],
   "source": [
    "acc"
   ]
  },
  {
   "cell_type": "code",
   "execution_count": null,
   "metadata": {},
   "outputs": [],
   "source": []
  }
 ],
 "metadata": {
  "kernelspec": {
   "display_name": "Python 3",
   "language": "python",
   "name": "python3"
  },
  "language_info": {
   "codemirror_mode": {
    "name": "ipython",
    "version": 3
   },
   "file_extension": ".py",
   "mimetype": "text/x-python",
   "name": "python",
   "nbconvert_exporter": "python",
   "pygments_lexer": "ipython3",
   "version": "3.7.0"
  }
 },
 "nbformat": 4,
 "nbformat_minor": 2
}
